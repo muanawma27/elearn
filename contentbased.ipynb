{
 "metadata": {
  "language_info": {
   "codemirror_mode": {
    "name": "ipython",
    "version": 3
   },
   "file_extension": ".py",
   "mimetype": "text/x-python",
   "name": "python",
   "nbconvert_exporter": "python",
   "pygments_lexer": "ipython3",
   "version": "3.8.5"
  },
  "orig_nbformat": 2,
  "kernelspec": {
   "name": "python385jvsc74a57bd02315d58bb99a84a9114b34176d7e6b6b9d010e819a528fc952a113fe067f78be",
   "display_name": "Python 3.8.5  ('packages': venv)"
  },
  "metadata": {
   "interpreter": {
    "hash": "2315d58bb99a84a9114b34176d7e6b6b9d010e819a528fc952a113fe067f78be"
   }
  }
 },
 "nbformat": 4,
 "nbformat_minor": 2,
 "cells": [
  {
   "cell_type": "code",
   "execution_count": 9,
   "metadata": {},
   "outputs": [],
   "source": [
    "import os\n",
    "import sqlite3 as sql\n",
    "import pandas as pd"
   ]
  },
  {
   "cell_type": "code",
   "execution_count": 10,
   "metadata": {},
   "outputs": [
    {
     "output_type": "execute_result",
     "data": {
      "text/plain": [
       "'/home/hmangaiha/Desktop/elearn'"
      ]
     },
     "metadata": {},
     "execution_count": 10
    }
   ],
   "source": [
    "os.path.abspath(os.getcwd())\n"
   ]
  },
  {
   "cell_type": "code",
   "execution_count": 27,
   "metadata": {},
   "outputs": [],
   "source": [
    "conn = sql.connect('db.sqlite3')\n",
    "cur = conn.cursor()"
   ]
  },
  {
   "cell_type": "code",
   "execution_count": 34,
   "metadata": {},
   "outputs": [],
   "source": [
    "# for row in cur.execute('SELECT * FROM contents_post;'):\n",
    "#     print(row)"
   ]
  },
  {
   "cell_type": "code",
   "execution_count": 47,
   "metadata": {},
   "outputs": [],
   "source": [
    "listing =pd.read_sql('SELECT * FROM  contents_post;', conn)"
   ]
  },
  {
   "cell_type": "code",
   "execution_count": 48,
   "metadata": {},
   "outputs": [
    {
     "output_type": "execute_result",
     "data": {
      "text/plain": [
       "   id                 title                  slug                  updated_on  \\\n",
       "0   1      THE LORD IS GOOD      the-lord-is-good  2021-05-10 21:22:23.973064   \n",
       "1   2        THANK YOU LORD        thank-you-lord  2021-05-20 08:15:47.455092   \n",
       "2   3  Carpentry Industrial  carpentry-industrial  2021-05-20 20:17:10.797375   \n",
       "3   4           Using Tools           using-tools  2021-05-20 13:40:50.976955   \n",
       "\n",
       "            created_on                                            content  \\\n",
       "0  2021-05-10 20:35:04  <p>GOD'S LOVE FAVOURS US ALL</p><figure class=...   \n",
       "1  2021-05-19 20:39:56                                 <p>NEW CONTENT</p>   \n",
       "2  2021-05-20 13:39:22  <figure class=\"image\"><img src=\"/media/django_...   \n",
       "3  2021-05-20 13:40:26  <figure class=\"image\"><img src=\"/media/django_...   \n",
       "\n",
       "    metades  status  author_id  \\\n",
       "0  new post       1          1   \n",
       "1  new post       1          1   \n",
       "2  new post       1          1   \n",
       "3  new post       1          1   \n",
       "\n",
       "                                          coverimage  category_id  \\\n",
       "0  coverimage/Screenshot_from_2021-04-27_01-12-08...            1   \n",
       "1  coverimage/Screenshot_from_2021-04-27_01-12-30...            1   \n",
       "2  coverimage/Screenshot_from_2021-05-09_21-13-28...            2   \n",
       "3  coverimage/Screenshot_from_2021-05-08_21-54-48...            2   \n",
       "\n",
       "   trailing_id  header_id  \n",
       "0          NaN        NaN  \n",
       "1          1.0        1.0  \n",
       "2          4.0        4.0  \n",
       "3          NaN        NaN  "
      ],
      "text/html": "<div>\n<style scoped>\n    .dataframe tbody tr th:only-of-type {\n        vertical-align: middle;\n    }\n\n    .dataframe tbody tr th {\n        vertical-align: top;\n    }\n\n    .dataframe thead th {\n        text-align: right;\n    }\n</style>\n<table border=\"1\" class=\"dataframe\">\n  <thead>\n    <tr style=\"text-align: right;\">\n      <th></th>\n      <th>id</th>\n      <th>title</th>\n      <th>slug</th>\n      <th>updated_on</th>\n      <th>created_on</th>\n      <th>content</th>\n      <th>metades</th>\n      <th>status</th>\n      <th>author_id</th>\n      <th>coverimage</th>\n      <th>category_id</th>\n      <th>trailing_id</th>\n      <th>header_id</th>\n    </tr>\n  </thead>\n  <tbody>\n    <tr>\n      <th>0</th>\n      <td>1</td>\n      <td>THE LORD IS GOOD</td>\n      <td>the-lord-is-good</td>\n      <td>2021-05-10 21:22:23.973064</td>\n      <td>2021-05-10 20:35:04</td>\n      <td>&lt;p&gt;GOD'S LOVE FAVOURS US ALL&lt;/p&gt;&lt;figure class=...</td>\n      <td>new post</td>\n      <td>1</td>\n      <td>1</td>\n      <td>coverimage/Screenshot_from_2021-04-27_01-12-08...</td>\n      <td>1</td>\n      <td>NaN</td>\n      <td>NaN</td>\n    </tr>\n    <tr>\n      <th>1</th>\n      <td>2</td>\n      <td>THANK YOU LORD</td>\n      <td>thank-you-lord</td>\n      <td>2021-05-20 08:15:47.455092</td>\n      <td>2021-05-19 20:39:56</td>\n      <td>&lt;p&gt;NEW CONTENT&lt;/p&gt;</td>\n      <td>new post</td>\n      <td>1</td>\n      <td>1</td>\n      <td>coverimage/Screenshot_from_2021-04-27_01-12-30...</td>\n      <td>1</td>\n      <td>1.0</td>\n      <td>1.0</td>\n    </tr>\n    <tr>\n      <th>2</th>\n      <td>3</td>\n      <td>Carpentry Industrial</td>\n      <td>carpentry-industrial</td>\n      <td>2021-05-20 20:17:10.797375</td>\n      <td>2021-05-20 13:39:22</td>\n      <td>&lt;figure class=\"image\"&gt;&lt;img src=\"/media/django_...</td>\n      <td>new post</td>\n      <td>1</td>\n      <td>1</td>\n      <td>coverimage/Screenshot_from_2021-05-09_21-13-28...</td>\n      <td>2</td>\n      <td>4.0</td>\n      <td>4.0</td>\n    </tr>\n    <tr>\n      <th>3</th>\n      <td>4</td>\n      <td>Using Tools</td>\n      <td>using-tools</td>\n      <td>2021-05-20 13:40:50.976955</td>\n      <td>2021-05-20 13:40:26</td>\n      <td>&lt;figure class=\"image\"&gt;&lt;img src=\"/media/django_...</td>\n      <td>new post</td>\n      <td>1</td>\n      <td>1</td>\n      <td>coverimage/Screenshot_from_2021-05-08_21-54-48...</td>\n      <td>2</td>\n      <td>NaN</td>\n      <td>NaN</td>\n    </tr>\n  </tbody>\n</table>\n</div>"
     },
     "metadata": {},
     "execution_count": 48
    }
   ],
   "source": [
    "listing"
   ]
  },
  {
   "cell_type": "code",
   "execution_count": null,
   "metadata": {},
   "outputs": [],
   "source": []
  }
 ]
}